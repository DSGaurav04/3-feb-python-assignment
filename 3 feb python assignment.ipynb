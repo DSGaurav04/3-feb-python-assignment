{
 "cells": [
  {
   "cell_type": "markdown",
   "id": "61eb548e-0990-4024-abc3-d492204ba437",
   "metadata": {},
   "source": [
    "Q1. Which keyword is used to create a function? Create a function to return a list of odd numbers in the\r\n",
    "range of 1 to 25."
   ]
  },
  {
   "cell_type": "code",
   "execution_count": 1,
   "id": "c13cf206-798d-4714-8177-387f6fc28ad8",
   "metadata": {},
   "outputs": [
    {
     "name": "stdout",
     "output_type": "stream",
     "text": [
      "List of odd numbers from 1 to 25: [1, 3, 5, 7, 9, 11, 13, 15, 17, 19, 21, 23, 25]\n"
     ]
    }
   ],
   "source": [
    "def odd_numbers():\n",
    "    # Initialize an empty list to store odd numbers\n",
    "    odd_nums = []\n",
    "\n",
    "    # Iterate through numbers from 1 to 25\n",
    "    for num in range(1, 26):\n",
    "        # Check if the number is odd\n",
    "        if num % 2 != 0:\n",
    "            # If the number is odd, append it to the list\n",
    "            odd_nums.append(num)\n",
    "\n",
    "    # Return the list of odd numbers\n",
    "    return odd_nums\n",
    "\n",
    "# Call the function and store the result in a variable\n",
    "odd_nums_list = odd_numbers()\n",
    "\n",
    "# Print the list of odd numbers\n",
    "print(\"List of odd numbers from 1 to 25:\", odd_nums_list)\n"
   ]
  },
  {
   "cell_type": "code",
   "execution_count": null,
   "id": "f8dffea0-d78d-424f-84de-ceda669f8556",
   "metadata": {},
   "outputs": [],
   "source": []
  },
  {
   "cell_type": "markdown",
   "id": "c1b20347-6684-4de2-81c5-481360c4483c",
   "metadata": {},
   "source": [
    "Q2. Why *args and **kwargs is used in some functions? Create a function each for *args and **kwargs\r\n",
    "to demonstrate their use."
   ]
  },
  {
   "cell_type": "raw",
   "id": "402650ad-fc6a-4315-b2b1-e2a00b0aade6",
   "metadata": {},
   "source": [
    "*args and **kwargs are used in Python functions to handle variable-length arguments.\n",
    "\n",
    "*args is used to pass a variable number of positional arguments to a function. It allows you to pass any number of arguments to a function without having to specify them individually.\n",
    "**kwargs is used to pass a variable number of keyword arguments to a function. It allows you to pass any number of keyword arguments to a function as a dictionary."
   ]
  },
  {
   "cell_type": "code",
   "execution_count": 2,
   "id": "82c43eec-3dbd-4686-aeea-1960d9aaef8a",
   "metadata": {},
   "outputs": [
    {
     "name": "stdout",
     "output_type": "stream",
     "text": [
      "Concatenation of strings: Hello World!\n",
      "Key-Value pairs:\n",
      "name: John\n",
      "age: 30\n",
      "city: New York\n"
     ]
    }
   ],
   "source": [
    "# Function with *args\n",
    "def concatenate_strings(*args):\n",
    "    result = \"\"\n",
    "    for arg in args:\n",
    "        result += arg\n",
    "    return result\n",
    "\n",
    "# Function with **kwargs\n",
    "def print_key_value_pairs(**kwargs):\n",
    "    for key, value in kwargs.items():\n",
    "        print(f\"{key}: {value}\")\n",
    "\n",
    "# Demonstration of *args\n",
    "print(\"Concatenation of strings:\", concatenate_strings(\"Hello\", \" \", \"World\", \"!\"))\n",
    "\n",
    "# Demonstration of **kwargs\n",
    "print(\"Key-Value pairs:\")\n",
    "print_key_value_pairs(name=\"John\", age=30, city=\"New York\")\n"
   ]
  },
  {
   "cell_type": "code",
   "execution_count": null,
   "id": "b0125c1b-991c-4aa1-90d9-c454b3b088ec",
   "metadata": {},
   "outputs": [],
   "source": []
  },
  {
   "cell_type": "markdown",
   "id": "8f5adb99-4cc3-4fcd-9d3f-8799d1e8adb1",
   "metadata": {},
   "source": [
    "Q3. What is an iterator in python? Name the method used to initialise the iterator object and the method\n",
    "used for iteration. Use these methods to print the first five elements of the given list [2, 4, 6, 8, 10, 12, 14,\n",
    "16, 18, 20]."
   ]
  },
  {
   "cell_type": "code",
   "execution_count": 3,
   "id": "e8564301-3e29-4706-aa45-d4a7ac89685c",
   "metadata": {},
   "outputs": [
    {
     "name": "stdout",
     "output_type": "stream",
     "text": [
      "First five elements of the list:\n",
      "2\n",
      "4\n",
      "6\n",
      "8\n",
      "10\n"
     ]
    }
   ],
   "source": [
    "# Initialize an iterator object for the list\n",
    "iterator = iter([2, 4, 6, 8, 10, 12, 14, 16, 18, 20])\n",
    "\n",
    "# Iterate through the first five elements using the next() method\n",
    "print(\"First five elements of the list:\")\n",
    "for _ in range(5):\n",
    "    print(next(iterator))\n"
   ]
  },
  {
   "cell_type": "code",
   "execution_count": null,
   "id": "9cbe30f5-8158-425d-9857-80557c369b33",
   "metadata": {},
   "outputs": [],
   "source": []
  },
  {
   "cell_type": "markdown",
   "id": "f2cc0f6d-0ce2-4110-b6e0-ddee74562d3f",
   "metadata": {},
   "source": [
    "Q4. What is a generator function in python? Why yield keyword is used? Give an example of a generator\r\n",
    "function."
   ]
  },
  {
   "cell_type": "raw",
   "id": "3566111c-2e95-42f1-b20c-77d40255b841",
   "metadata": {},
   "source": [
    "\n",
    "Generator:- A generator function in Python is a special type of function that returns an iterator (a generator) which generates values lazily on-the-fly. Generator functions are defined using the def keyword, just like regular functions, but they use the yield keyword to return values one at a time, suspending the function's state in between each yield.\n",
    "\n",
    "Yield:- The yield keyword is used in generator functions to yield a value to the caller while maintaining the function's state. When the generator is iterated over or when the next() function is called on it, the function resumes execution from where it left off and continues until the next yield statement is encountered. This allows the function to produce a sequence of values without needing to store them all in memory at once."
   ]
  },
  {
   "cell_type": "code",
   "execution_count": 4,
   "id": "0cb98ab0-3dda-4e08-83b0-ad7961c99ab8",
   "metadata": {},
   "outputs": [
    {
     "name": "stdout",
     "output_type": "stream",
     "text": [
      "First 10 Fibonacci numbers:\n",
      "0\n",
      "1\n",
      "1\n",
      "2\n",
      "3\n",
      "5\n",
      "8\n",
      "13\n",
      "21\n",
      "34\n"
     ]
    }
   ],
   "source": [
    "def fibonacci():\n",
    "    a, b = 0, 1\n",
    "    while True:\n",
    "        yield a\n",
    "        a, b = b, a + b\n",
    "\n",
    "# Create a generator object\n",
    "fib_gen = fibonacci()\n",
    "\n",
    "# Iterate over the generator to print the first 10 Fibonacci numbers\n",
    "print(\"First 10 Fibonacci numbers:\")\n",
    "for _ in range(10):\n",
    "    print(next(fib_gen))\n"
   ]
  },
  {
   "cell_type": "code",
   "execution_count": null,
   "id": "8cdd6f07-d28f-4285-bc41-59c699b834b4",
   "metadata": {},
   "outputs": [],
   "source": []
  },
  {
   "cell_type": "markdown",
   "id": "7fc7cdda-a03d-42a5-afe7-b474e3f9c43c",
   "metadata": {},
   "source": [
    "Q5. Create a generator function for prime numbers less than 1000. Use the next() method to print the\r\n",
    "first 20 prime numbers."
   ]
  },
  {
   "cell_type": "code",
   "execution_count": 5,
   "id": "5c471299-96a0-4dd4-937f-ca39bafe725c",
   "metadata": {},
   "outputs": [
    {
     "name": "stdout",
     "output_type": "stream",
     "text": [
      "First 20 prime numbers:\n",
      "2\n",
      "3\n",
      "5\n",
      "7\n",
      "11\n",
      "13\n",
      "17\n",
      "19\n",
      "23\n",
      "29\n",
      "31\n",
      "37\n",
      "41\n",
      "43\n",
      "47\n",
      "53\n",
      "59\n",
      "61\n",
      "67\n",
      "71\n"
     ]
    }
   ],
   "source": [
    "def generate_primes():\n",
    "    # Start generating primes from 2\n",
    "    num = 2\n",
    "    while True:\n",
    "        if all(num % i != 0 for i in range(2, int(num ** 0.5) + 1)):\n",
    "            yield num\n",
    "        num += 1\n",
    "\n",
    "# Create a generator object for prime numbers\n",
    "prime_gen = generate_primes()\n",
    "\n",
    "# Print the first 20 prime numbers using the next() method\n",
    "print(\"First 20 prime numbers:\")\n",
    "for _ in range(20):\n",
    "    print(next(prime_gen))\n"
   ]
  },
  {
   "cell_type": "code",
   "execution_count": null,
   "id": "18394b8d-c361-4446-8bad-b420641c3bc1",
   "metadata": {},
   "outputs": [],
   "source": []
  },
  {
   "cell_type": "markdown",
   "id": "4d8b1c20-9412-435a-bacf-7eac5304eda1",
   "metadata": {},
   "source": [
    "Q6. Write a python program to print the first 10 Fibonacci numbers using a while loop."
   ]
  },
  {
   "cell_type": "code",
   "execution_count": 6,
   "id": "1a9cb3b6-8fe2-4061-8725-700c9aae35e6",
   "metadata": {},
   "outputs": [
    {
     "name": "stdout",
     "output_type": "stream",
     "text": [
      "First 10 Fibonacci numbers:\n",
      "0 1 1 2 3 5 8 13 21 34 "
     ]
    }
   ],
   "source": [
    "# Initialize the first two Fibonacci numbers\n",
    "a, b = 0, 1\n",
    "\n",
    "# Counter to track the number of Fibonacci numbers printed\n",
    "count = 0\n",
    "\n",
    "# Print the first Fibonacci number\n",
    "print(\"First 10 Fibonacci numbers:\")\n",
    "\n",
    "# Iterate using a while loop to print the first 10 Fibonacci numbers\n",
    "while count < 10:\n",
    "    print(a, end=\" \")\n",
    "\n",
    "    # Update Fibonacci numbers\n",
    "    a, b = b, a + b\n",
    "    \n",
    "    # Increment counter\n",
    "    count += 1\n"
   ]
  },
  {
   "cell_type": "code",
   "execution_count": null,
   "id": "e3d10f58-4d70-4e95-bee6-8df39aa0c60e",
   "metadata": {},
   "outputs": [],
   "source": []
  },
  {
   "cell_type": "markdown",
   "id": "a1330b03-6abc-4f07-859f-5b16b011d220",
   "metadata": {},
   "source": [
    "Q7. Write a List Comprehension to iterate through the given string: ‘pwskills’.\r\n",
    "Expected output: ['p', 'w', 's', 'k', 'i', 'l', 'l', 's']"
   ]
  },
  {
   "cell_type": "code",
   "execution_count": 7,
   "id": "d8efec96-b070-4865-985d-6ce23bf150f5",
   "metadata": {},
   "outputs": [
    {
     "name": "stdout",
     "output_type": "stream",
     "text": [
      "List of characters: ['p', 'w', 's', 'k', 'i', 'l', 'l', 's']\n"
     ]
    }
   ],
   "source": [
    "# Given string\n",
    "string = 'pwskills'\n",
    "\n",
    "# List comprehension to iterate through the string and create a list of characters\n",
    "char_list = [char for char in string]\n",
    "\n",
    "# Print the result\n",
    "print(\"List of characters:\", char_list)\n"
   ]
  },
  {
   "cell_type": "code",
   "execution_count": null,
   "id": "396abe7b-86a8-48f5-bf5b-5d7636432bf9",
   "metadata": {},
   "outputs": [],
   "source": []
  },
  {
   "cell_type": "markdown",
   "id": "ec1ac29d-ded0-43ef-b4c0-8329e979b1d3",
   "metadata": {},
   "source": [
    "Q8. Write a python program to check whether a given number is Palindrome or not using a while loop."
   ]
  },
  {
   "cell_type": "code",
   "execution_count": 10,
   "id": "da9881f5-2838-4f98-9353-60317ba30d5e",
   "metadata": {},
   "outputs": [
    {
     "name": "stdout",
     "output_type": "stream",
     "text": [
      "12321 is a palindrome\n"
     ]
    }
   ],
   "source": [
    "def is_palindrome(num):\n",
    "    # Store the original number for comparison later\n",
    "    original_num = num\n",
    "    \n",
    "    # Initialize variables to store the reversed number\n",
    "    reversed_num = 0\n",
    "    \n",
    "    # Reverse the given number using a while loop\n",
    "    while num > 0:\n",
    "        # Get the last digit of the number\n",
    "        digit = num % 10\n",
    "        \n",
    "        # Add the last digit to the reversed number\n",
    "        reversed_num = reversed_num * 10 + digit\n",
    "        \n",
    "        # Remove the last digit from the original number\n",
    "        num //= 10\n",
    "    \n",
    "    # Check if the reversed number is equal to the original number\n",
    "    if original_num == reversed_num:\n",
    "        return True\n",
    "    else:\n",
    "        return False\n",
    "\n",
    "# Test the function with a sample number\n",
    "number = 12321\n",
    "if is_palindrome(number):\n",
    "    print(number, \"is a palindrome\")\n",
    "else:\n",
    "    print(number, \"is not a palindrome\")\n"
   ]
  },
  {
   "cell_type": "code",
   "execution_count": null,
   "id": "4b6b90b9-b522-4c4c-81fe-a6c9e33b9641",
   "metadata": {},
   "outputs": [],
   "source": []
  },
  {
   "cell_type": "code",
   "execution_count": null,
   "id": "0987fa79-ed78-424a-8237-1d7fe8be416f",
   "metadata": {},
   "outputs": [],
   "source": []
  }
 ],
 "metadata": {
  "kernelspec": {
   "display_name": "Python 3 (ipykernel)",
   "language": "python",
   "name": "python3"
  },
  "language_info": {
   "codemirror_mode": {
    "name": "ipython",
    "version": 3
   },
   "file_extension": ".py",
   "mimetype": "text/x-python",
   "name": "python",
   "nbconvert_exporter": "python",
   "pygments_lexer": "ipython3",
   "version": "3.11.5"
  }
 },
 "nbformat": 4,
 "nbformat_minor": 5
}
